{
 "cells": [
  {
   "cell_type": "code",
   "execution_count": 9,
   "metadata": {},
   "outputs": [],
   "source": [
    "import csv"
   ]
  },
  {
   "cell_type": "code",
   "execution_count": 10,
   "metadata": {},
   "outputs": [],
   "source": [
    "# define the field names\n",
    "fields = ['PruningDensity','PruningType','Accuracy','NonZeros','TimeStamp','CompressionTime']"
   ]
  },
  {
   "cell_type": "code",
   "execution_count": 11,
   "metadata": {},
   "outputs": [],
   "source": [
    "# name of csv file\n",
    "name = input()"
   ]
  },
  {
   "cell_type": "code",
   "execution_count": 12,
   "metadata": {},
   "outputs": [],
   "source": [
    "# define the file to write to\n",
    "filename = '/home/yoshisada/Desktop/condensa/notebooks/cifar10_outputs/'+ name + '.csv'"
   ]
  },
  {
   "attachments": {},
   "cell_type": "markdown",
   "metadata": {},
   "source": [
    "using a with block the file will automatically get closed"
   ]
  },
  {
   "cell_type": "code",
   "execution_count": 13,
   "metadata": {},
   "outputs": [],
   "source": [
    "# writing to csv file \n",
    "with open(filename, 'w') as csvfile: \n",
    "    # creating a csv dict writer object \n",
    "    writer = csv.DictWriter(csvfile, fieldnames = fields) \n",
    "\n",
    "    # writing headers (field names) \n",
    "    writer.writeheader() "
   ]
  },
  {
   "attachments": {},
   "cell_type": "markdown",
   "metadata": {},
   "source": [
    "Important every time you write to the file after its created always open it in 'a' otherwise all the dat will be lost. Uncomment the code below to add a fake rows. "
   ]
  },
  {
   "cell_type": "code",
   "execution_count": 14,
   "metadata": {},
   "outputs": [],
   "source": [
    "test =  [   \n",
    "            {'NonZeros': 5, 'Accuracy': 10, 'PruningDensity': 0.09, 'StartTime': 1, 'ElapsedTime':3},\n",
    "            {'NonZeros': 10, 'Accuracy': 20, 'PruningDensity': 0.18, 'StartTime': 2, 'ElapsedTime':4}\n",
    "        ] "
   ]
  },
  {
   "cell_type": "code",
   "execution_count": 15,
   "metadata": {},
   "outputs": [],
   "source": [
    "# # writing to csv file \n",
    "# # set append mode writes to EOF always.\n",
    "# with open(filename, 'a') as csvfile: \n",
    "#     # creating a csv dict writer object \n",
    "#     writer = csv.DictWriter(csvfile, fieldnames = fields) \n",
    "\n",
    "#     # writing singular data rows\n",
    "#     writer.writerows(test) "
   ]
  }
 ],
 "metadata": {
  "kernelspec": {
   "display_name": "base",
   "language": "python",
   "name": "python3"
  },
  "language_info": {
   "codemirror_mode": {
    "name": "ipython",
    "version": 3
   },
   "file_extension": ".py",
   "mimetype": "text/x-python",
   "name": "python",
   "nbconvert_exporter": "python",
   "pygments_lexer": "ipython3",
   "version": "3.10.6"
  },
  "orig_nbformat": 4
 },
 "nbformat": 4,
 "nbformat_minor": 2
}
